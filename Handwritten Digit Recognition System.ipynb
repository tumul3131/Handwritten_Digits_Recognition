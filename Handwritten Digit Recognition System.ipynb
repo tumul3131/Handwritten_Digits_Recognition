{
 "cells": [
  {
   "cell_type": "markdown",
   "id": "7daca91b",
   "metadata": {},
   "source": [
    "# PROJECT : HANDWRITTEN DIGIT RECOGNITION SYSTEM"
   ]
  },
  {
   "cell_type": "markdown",
   "id": "1b645a87",
   "metadata": {},
   "source": [
    "## PART 1 : DATA PREPROCESSING"
   ]
  },
  {
   "cell_type": "markdown",
   "id": "0642f4fd",
   "metadata": {},
   "source": [
    "### STEP 1: Import the Libraries"
   ]
  },
  {
   "cell_type": "code",
   "execution_count": 97,
   "id": "1f1195fb",
   "metadata": {},
   "outputs": [],
   "source": [
    "import numpy as np\n",
    "import pandas as pd\n",
    "import matplotlib.pyplot as plt\n",
    "from sklearn.metrics import confusion_matrix,accuracy_score,precision_score,recall_score,f1_score,r2_score,mean_squared_error,mean_absolute_error"
   ]
  },
  {
   "cell_type": "markdown",
   "id": "25232cca",
   "metadata": {},
   "source": [
    "### STEP 2 : IMPORT THE DATA"
   ]
  },
  {
   "cell_type": "code",
   "execution_count": 98,
   "id": "18f6a56e",
   "metadata": {},
   "outputs": [],
   "source": [
    "# We are provided with two datasets named train and test.\n",
    "# Train and Test are two subsets of the dataset.\n",
    "# Training data is typically larger than testing data.\n",
    "# Training dataset is fed into the machine learning model to discover and learn patterns. In this way, it trains our model. "
   ]
  },
  {
   "cell_type": "code",
   "execution_count": 99,
   "id": "3d1efadd",
   "metadata": {},
   "outputs": [
    {
     "data": {
      "text/html": [
       "<div>\n",
       "<style scoped>\n",
       "    .dataframe tbody tr th:only-of-type {\n",
       "        vertical-align: middle;\n",
       "    }\n",
       "\n",
       "    .dataframe tbody tr th {\n",
       "        vertical-align: top;\n",
       "    }\n",
       "\n",
       "    .dataframe thead th {\n",
       "        text-align: right;\n",
       "    }\n",
       "</style>\n",
       "<table border=\"1\" class=\"dataframe\">\n",
       "  <thead>\n",
       "    <tr style=\"text-align: right;\">\n",
       "      <th></th>\n",
       "      <th>label</th>\n",
       "      <th>pixel0</th>\n",
       "      <th>pixel1</th>\n",
       "      <th>pixel2</th>\n",
       "      <th>pixel3</th>\n",
       "      <th>pixel4</th>\n",
       "      <th>pixel5</th>\n",
       "      <th>pixel6</th>\n",
       "      <th>pixel7</th>\n",
       "      <th>pixel8</th>\n",
       "      <th>...</th>\n",
       "      <th>pixel774</th>\n",
       "      <th>pixel775</th>\n",
       "      <th>pixel776</th>\n",
       "      <th>pixel777</th>\n",
       "      <th>pixel778</th>\n",
       "      <th>pixel779</th>\n",
       "      <th>pixel780</th>\n",
       "      <th>pixel781</th>\n",
       "      <th>pixel782</th>\n",
       "      <th>pixel783</th>\n",
       "    </tr>\n",
       "  </thead>\n",
       "  <tbody>\n",
       "    <tr>\n",
       "      <th>0</th>\n",
       "      <td>1</td>\n",
       "      <td>0</td>\n",
       "      <td>0</td>\n",
       "      <td>0</td>\n",
       "      <td>0</td>\n",
       "      <td>0</td>\n",
       "      <td>0</td>\n",
       "      <td>0</td>\n",
       "      <td>0</td>\n",
       "      <td>0</td>\n",
       "      <td>...</td>\n",
       "      <td>0</td>\n",
       "      <td>0</td>\n",
       "      <td>0</td>\n",
       "      <td>0</td>\n",
       "      <td>0</td>\n",
       "      <td>0</td>\n",
       "      <td>0</td>\n",
       "      <td>0</td>\n",
       "      <td>0</td>\n",
       "      <td>0</td>\n",
       "    </tr>\n",
       "    <tr>\n",
       "      <th>1</th>\n",
       "      <td>0</td>\n",
       "      <td>0</td>\n",
       "      <td>0</td>\n",
       "      <td>0</td>\n",
       "      <td>0</td>\n",
       "      <td>0</td>\n",
       "      <td>0</td>\n",
       "      <td>0</td>\n",
       "      <td>0</td>\n",
       "      <td>0</td>\n",
       "      <td>...</td>\n",
       "      <td>0</td>\n",
       "      <td>0</td>\n",
       "      <td>0</td>\n",
       "      <td>0</td>\n",
       "      <td>0</td>\n",
       "      <td>0</td>\n",
       "      <td>0</td>\n",
       "      <td>0</td>\n",
       "      <td>0</td>\n",
       "      <td>0</td>\n",
       "    </tr>\n",
       "    <tr>\n",
       "      <th>2</th>\n",
       "      <td>1</td>\n",
       "      <td>0</td>\n",
       "      <td>0</td>\n",
       "      <td>0</td>\n",
       "      <td>0</td>\n",
       "      <td>0</td>\n",
       "      <td>0</td>\n",
       "      <td>0</td>\n",
       "      <td>0</td>\n",
       "      <td>0</td>\n",
       "      <td>...</td>\n",
       "      <td>0</td>\n",
       "      <td>0</td>\n",
       "      <td>0</td>\n",
       "      <td>0</td>\n",
       "      <td>0</td>\n",
       "      <td>0</td>\n",
       "      <td>0</td>\n",
       "      <td>0</td>\n",
       "      <td>0</td>\n",
       "      <td>0</td>\n",
       "    </tr>\n",
       "    <tr>\n",
       "      <th>3</th>\n",
       "      <td>4</td>\n",
       "      <td>0</td>\n",
       "      <td>0</td>\n",
       "      <td>0</td>\n",
       "      <td>0</td>\n",
       "      <td>0</td>\n",
       "      <td>0</td>\n",
       "      <td>0</td>\n",
       "      <td>0</td>\n",
       "      <td>0</td>\n",
       "      <td>...</td>\n",
       "      <td>0</td>\n",
       "      <td>0</td>\n",
       "      <td>0</td>\n",
       "      <td>0</td>\n",
       "      <td>0</td>\n",
       "      <td>0</td>\n",
       "      <td>0</td>\n",
       "      <td>0</td>\n",
       "      <td>0</td>\n",
       "      <td>0</td>\n",
       "    </tr>\n",
       "    <tr>\n",
       "      <th>4</th>\n",
       "      <td>0</td>\n",
       "      <td>0</td>\n",
       "      <td>0</td>\n",
       "      <td>0</td>\n",
       "      <td>0</td>\n",
       "      <td>0</td>\n",
       "      <td>0</td>\n",
       "      <td>0</td>\n",
       "      <td>0</td>\n",
       "      <td>0</td>\n",
       "      <td>...</td>\n",
       "      <td>0</td>\n",
       "      <td>0</td>\n",
       "      <td>0</td>\n",
       "      <td>0</td>\n",
       "      <td>0</td>\n",
       "      <td>0</td>\n",
       "      <td>0</td>\n",
       "      <td>0</td>\n",
       "      <td>0</td>\n",
       "      <td>0</td>\n",
       "    </tr>\n",
       "  </tbody>\n",
       "</table>\n",
       "<p>5 rows × 785 columns</p>\n",
       "</div>"
      ],
      "text/plain": [
       "   label  pixel0  pixel1  pixel2  pixel3  pixel4  pixel5  pixel6  pixel7  \\\n",
       "0      1       0       0       0       0       0       0       0       0   \n",
       "1      0       0       0       0       0       0       0       0       0   \n",
       "2      1       0       0       0       0       0       0       0       0   \n",
       "3      4       0       0       0       0       0       0       0       0   \n",
       "4      0       0       0       0       0       0       0       0       0   \n",
       "\n",
       "   pixel8  ...  pixel774  pixel775  pixel776  pixel777  pixel778  pixel779  \\\n",
       "0       0  ...         0         0         0         0         0         0   \n",
       "1       0  ...         0         0         0         0         0         0   \n",
       "2       0  ...         0         0         0         0         0         0   \n",
       "3       0  ...         0         0         0         0         0         0   \n",
       "4       0  ...         0         0         0         0         0         0   \n",
       "\n",
       "   pixel780  pixel781  pixel782  pixel783  \n",
       "0         0         0         0         0  \n",
       "1         0         0         0         0  \n",
       "2         0         0         0         0  \n",
       "3         0         0         0         0  \n",
       "4         0         0         0         0  \n",
       "\n",
       "[5 rows x 785 columns]"
      ]
     },
     "execution_count": 99,
     "metadata": {},
     "output_type": "execute_result"
    }
   ],
   "source": [
    "df=pd.read_csv('train.csv')\n",
    "df.head()"
   ]
  },
  {
   "cell_type": "markdown",
   "id": "5239faa0",
   "metadata": {},
   "source": [
    "### STEP 3 : Divide the dataset into input and output. i.e Feature Matrix 'X' and Column Vector 'Y'"
   ]
  },
  {
   "cell_type": "code",
   "execution_count": 100,
   "id": "e006d4d5",
   "metadata": {},
   "outputs": [],
   "source": [
    "X= df.iloc[:,1:] #from pixel 0 to pixel 783\n",
    "Y=df.iloc[:,0] #column named label"
   ]
  },
  {
   "cell_type": "code",
   "execution_count": 101,
   "id": "5e4c2953",
   "metadata": {},
   "outputs": [
    {
     "name": "stdout",
     "output_type": "stream",
     "text": [
      "       pixel0  pixel1  pixel2  pixel3  pixel4  pixel5  pixel6  pixel7  pixel8  \\\n",
      "0           0       0       0       0       0       0       0       0       0   \n",
      "1           0       0       0       0       0       0       0       0       0   \n",
      "2           0       0       0       0       0       0       0       0       0   \n",
      "3           0       0       0       0       0       0       0       0       0   \n",
      "4           0       0       0       0       0       0       0       0       0   \n",
      "...       ...     ...     ...     ...     ...     ...     ...     ...     ...   \n",
      "41995       0       0       0       0       0       0       0       0       0   \n",
      "41996       0       0       0       0       0       0       0       0       0   \n",
      "41997       0       0       0       0       0       0       0       0       0   \n",
      "41998       0       0       0       0       0       0       0       0       0   \n",
      "41999       0       0       0       0       0       0       0       0       0   \n",
      "\n",
      "       pixel9  ...  pixel774  pixel775  pixel776  pixel777  pixel778  \\\n",
      "0           0  ...         0         0         0         0         0   \n",
      "1           0  ...         0         0         0         0         0   \n",
      "2           0  ...         0         0         0         0         0   \n",
      "3           0  ...         0         0         0         0         0   \n",
      "4           0  ...         0         0         0         0         0   \n",
      "...       ...  ...       ...       ...       ...       ...       ...   \n",
      "41995       0  ...         0         0         0         0         0   \n",
      "41996       0  ...         0         0         0         0         0   \n",
      "41997       0  ...         0         0         0         0         0   \n",
      "41998       0  ...         0         0         0         0         0   \n",
      "41999       0  ...         0         0         0         0         0   \n",
      "\n",
      "       pixel779  pixel780  pixel781  pixel782  pixel783  \n",
      "0             0         0         0         0         0  \n",
      "1             0         0         0         0         0  \n",
      "2             0         0         0         0         0  \n",
      "3             0         0         0         0         0  \n",
      "4             0         0         0         0         0  \n",
      "...         ...       ...       ...       ...       ...  \n",
      "41995         0         0         0         0         0  \n",
      "41996         0         0         0         0         0  \n",
      "41997         0         0         0         0         0  \n",
      "41998         0         0         0         0         0  \n",
      "41999         0         0         0         0         0  \n",
      "\n",
      "[42000 rows x 784 columns]\n"
     ]
    }
   ],
   "source": [
    "print(X)"
   ]
  },
  {
   "cell_type": "code",
   "execution_count": 102,
   "id": "cc7a83e4",
   "metadata": {},
   "outputs": [
    {
     "name": "stdout",
     "output_type": "stream",
     "text": [
      "0        1\n",
      "1        0\n",
      "2        1\n",
      "3        4\n",
      "4        0\n",
      "        ..\n",
      "41995    0\n",
      "41996    1\n",
      "41997    7\n",
      "41998    6\n",
      "41999    9\n",
      "Name: label, Length: 42000, dtype: int64\n"
     ]
    }
   ],
   "source": [
    "print(Y)"
   ]
  },
  {
   "cell_type": "markdown",
   "id": "5295ea42",
   "metadata": {},
   "source": [
    "## INSIGHTS ON MNSIT HANDWRITTEN DIGIT DATASET"
   ]
  },
  {
   "cell_type": "markdown",
   "id": "5406962f",
   "metadata": {},
   "source": [
    "#### It is a set of 70,000 small images of digits handwritten by high school students and employees of the US causes Bureau.\n",
    "#### Each image has 28*28 = 784 features.\n",
    "#### Also Each image has 28*28 pixels.\n",
    "#### Following is the Sample images from MNIST test dataset taken from Wikipedia."
   ]
  },
  {
   "attachments": {
    "Image_1.webp": {
     "image/webp": "[encoded data removed]"
    }
   },
   "cell_type": "markdown",
   "id": "81728cc2",
   "metadata": {},
   "source": [
    "![Image_1.webp](attachment:Image_1.webp)"
   ]
  },
  {
   "cell_type": "markdown",
   "id": "ecbb9648",
   "metadata": {},
   "source": [
    "#### Plotiing the dataset for proper visualisation using matplotlib."
   ]
  },
  {
   "cell_type": "code",
   "execution_count": 103,
   "id": "1e981b17",
   "metadata": {},
   "outputs": [
    {
     "name": "stdout",
     "output_type": "stream",
     "text": [
      "REPRESENTATION IN A FORM OF ARRAY\n",
      "[[  0   0   0   0   0   0   0   0   0   0   0   0   0   0   0   0   0   0\n",
      "    0   0   0   0   0   0   0   0   0   0]\n",
      " [  0   0   0   0   0   0   0   0   0   0   0   0   0   0   0   0   0   0\n",
      "    0   0   0   0   0   0   0   0   0   0]\n",
      " [  0   0   0   0   0   0   0   0   0   0   0   0   0   0   0   0   0   0\n",
      "    0   0   0   0   0   0   0   0   0   0]\n",
      " [  0   0   0   0   0   0   0   0   0   0   0   0   0   0   0   0   0   0\n",
      "    0   0   0   0   0   0   0   0   0   0]\n",
      " [  0   0   0   0   0   0   0   0   0   0   0   0   0   0   0   0   0   0\n",
      "    0   0 188 255  94   0   0   0   0   0]\n",
      " [  0   0   0   0   0   0   0   0   0   0   0   0   0   0   0   0   0   0\n",
      "    0 191 250 253  93   0   0   0   0   0]\n",
      " [  0   0   0   0   0   0   0   0   0   0   0   0   0   0   0   0   0   0\n",
      "  123 248 253 167  10   0   0   0   0   0]\n",
      " [  0   0   0   0   0   0   0   0   0   0   0   0   0   0   0   0   0  80\n",
      "  247 253 208  13   0   0   0   0   0   0]\n",
      " [  0   0   0   0   0   0   0   0   0   0   0   0   0   0   0   0  29 207\n",
      "  253 235  77   0   0   0   0   0   0   0]\n",
      " [  0   0   0   0   0   0   0   0   0   0   0   0   0   0   0  54 209 253\n",
      "  253  88   0   0   0   0   0   0   0   0]\n",
      " [  0   0   0   0   0   0   0   0   0   0   0   0   0   0  93 254 253 238\n",
      "  170  17   0   0   0   0   0   0   0   0]\n",
      " [  0   0   0   0   0   0   0   0   0   0   0   0   0  23 210 254 253 159\n",
      "    0   0   0   0   0   0   0   0   0   0]\n",
      " [  0   0   0   0   0   0   0   0   0   0   0   0  16 209 253 254 240  81\n",
      "    0   0   0   0   0   0   0   0   0   0]\n",
      " [  0   0   0   0   0   0   0   0   0   0   0   0  27 253 253 254  13   0\n",
      "    0   0   0   0   0   0   0   0   0   0]\n",
      " [  0   0   0   0   0   0   0   0   0   0   0  20 206 254 254 198   7   0\n",
      "    0   0   0   0   0   0   0   0   0   0]\n",
      " [  0   0   0   0   0   0   0   0   0   0   0 168 253 253 196   7   0   0\n",
      "    0   0   0   0   0   0   0   0   0   0]\n",
      " [  0   0   0   0   0   0   0   0   0   0  20 203 253 248  76   0   0   0\n",
      "    0   0   0   0   0   0   0   0   0   0]\n",
      " [  0   0   0   0   0   0   0   0   0  22 188 253 245  93   0   0   0   0\n",
      "    0   0   0   0   0   0   0   0   0   0]\n",
      " [  0   0   0   0   0   0   0   0   0 103 253 253 191   0   0   0   0   0\n",
      "    0   0   0   0   0   0   0   0   0   0]\n",
      " [  0   0   0   0   0   0   0   0  89 240 253 195  25   0   0   0   0   0\n",
      "    0   0   0   0   0   0   0   0   0   0]\n",
      " [  0   0   0   0   0   0   0  15 220 253 253  80   0   0   0   0   0   0\n",
      "    0   0   0   0   0   0   0   0   0   0]\n",
      " [  0   0   0   0   0   0   0  94 253 253 253  94   0   0   0   0   0   0\n",
      "    0   0   0   0   0   0   0   0   0   0]\n",
      " [  0   0   0   0   0   0   0  89 251 253 250 131   0   0   0   0   0   0\n",
      "    0   0   0   0   0   0   0   0   0   0]\n",
      " [  0   0   0   0   0   0   0   0 214 218  95   0   0   0   0   0   0   0\n",
      "    0   0   0   0   0   0   0   0   0   0]\n",
      " [  0   0   0   0   0   0   0   0   0   0   0   0   0   0   0   0   0   0\n",
      "    0   0   0   0   0   0   0   0   0   0]\n",
      " [  0   0   0   0   0   0   0   0   0   0   0   0   0   0   0   0   0   0\n",
      "    0   0   0   0   0   0   0   0   0   0]\n",
      " [  0   0   0   0   0   0   0   0   0   0   0   0   0   0   0   0   0   0\n",
      "    0   0   0   0   0   0   0   0   0   0]\n",
      " [  0   0   0   0   0   0   0   0   0   0   0   0   0   0   0   0   0   0\n",
      "    0   0   0   0   0   0   0   0   0   0]]\n"
     ]
    }
   ],
   "source": [
    "label=df.iloc[0,1:].values\n",
    "label=label.reshape(28,28)\n",
    "print(\"REPRESENTATION IN A FORM OF ARRAY\")\n",
    "print(label) "
   ]
  },
  {
   "cell_type": "code",
   "execution_count": 104,
   "id": "8d465d68",
   "metadata": {},
   "outputs": [
    {
     "name": "stdout",
     "output_type": "stream",
     "text": [
      "GRAPHICAL REPRESENTATION\n"
     ]
    },
    {
     "data": {
      "text/plain": [
       "<matplotlib.image.AxesImage at 0x150a062e910>"
      ]
     },
     "execution_count": 104,
     "metadata": {},
     "output_type": "execute_result"
    },
    {
     "data": {
      "image/png": "[encoded data removed]",
      "text/plain": [
       "<Figure size 432x288 with 1 Axes>"
      ]
     },
     "metadata": {
      "needs_background": "light"
     },
     "output_type": "display_data"
    }
   ],
   "source": [
    "print('GRAPHICAL REPRESENTATION')\n",
    "plt.imshow(label,cmap='summer')"
   ]
  },
  {
   "cell_type": "markdown",
   "id": "0955e29b",
   "metadata": {},
   "source": [
    "### STEP 4 : No Simple Imputer required as there is no missing data."
   ]
  },
  {
   "cell_type": "code",
   "execution_count": 105,
   "id": "e1e591b3",
   "metadata": {},
   "outputs": [
    {
     "data": {
      "text/plain": [
       "label       0\n",
       "pixel0      0\n",
       "pixel1      0\n",
       "pixel2      0\n",
       "pixel3      0\n",
       "           ..\n",
       "pixel779    0\n",
       "pixel780    0\n",
       "pixel781    0\n",
       "pixel782    0\n",
       "pixel783    0\n",
       "Length: 785, dtype: int64"
      ]
     },
     "execution_count": 105,
     "metadata": {},
     "output_type": "execute_result"
    }
   ],
   "source": [
    "df.isnull().sum()"
   ]
  },
  {
   "cell_type": "markdown",
   "id": "c09542d5",
   "metadata": {},
   "source": [
    "### STEP 5: Encoding is not required here because of absence of categorical data."
   ]
  },
  {
   "cell_type": "markdown",
   "id": "67d2cb7e",
   "metadata": {},
   "source": [
    "### STEP 6 : Splitting dataset into train and test"
   ]
  },
  {
   "cell_type": "code",
   "execution_count": 106,
   "id": "10d848fc",
   "metadata": {},
   "outputs": [],
   "source": [
    "from sklearn.model_selection import train_test_split\n",
    "Xtrain,Xtest,Ytrain,Ytest=train_test_split(X,Y,test_size=0.4,random_state=1)"
   ]
  },
  {
   "cell_type": "code",
   "execution_count": 107,
   "id": "eb49f917",
   "metadata": {},
   "outputs": [
    {
     "data": {
      "text/plain": [
       "25200"
      ]
     },
     "execution_count": 107,
     "metadata": {},
     "output_type": "execute_result"
    }
   ],
   "source": [
    "len(Xtrain)"
   ]
  },
  {
   "cell_type": "code",
   "execution_count": 108,
   "id": "44a1ecf4",
   "metadata": {},
   "outputs": [
    {
     "data": {
      "text/plain": [
       "16800"
      ]
     },
     "execution_count": 108,
     "metadata": {},
     "output_type": "execute_result"
    }
   ],
   "source": [
    "len(Xtest)"
   ]
  },
  {
   "cell_type": "markdown",
   "id": "8f5d6e99",
   "metadata": {},
   "source": [
    "### STEP 7: Feature Scaling"
   ]
  },
  {
   "cell_type": "code",
   "execution_count": 109,
   "id": "ba8ca357",
   "metadata": {},
   "outputs": [
    {
     "data": {
      "text/html": [
       "<div>\n",
       "<style scoped>\n",
       "    .dataframe tbody tr th:only-of-type {\n",
       "        vertical-align: middle;\n",
       "    }\n",
       "\n",
       "    .dataframe tbody tr th {\n",
       "        vertical-align: top;\n",
       "    }\n",
       "\n",
       "    .dataframe thead th {\n",
       "        text-align: right;\n",
       "    }\n",
       "</style>\n",
       "<table border=\"1\" class=\"dataframe\">\n",
       "  <thead>\n",
       "    <tr style=\"text-align: right;\">\n",
       "      <th></th>\n",
       "      <th>pixel0</th>\n",
       "      <th>pixel1</th>\n",
       "      <th>pixel2</th>\n",
       "      <th>pixel3</th>\n",
       "      <th>pixel4</th>\n",
       "      <th>pixel5</th>\n",
       "      <th>pixel6</th>\n",
       "      <th>pixel7</th>\n",
       "      <th>pixel8</th>\n",
       "      <th>pixel9</th>\n",
       "      <th>...</th>\n",
       "      <th>pixel774</th>\n",
       "      <th>pixel775</th>\n",
       "      <th>pixel776</th>\n",
       "      <th>pixel777</th>\n",
       "      <th>pixel778</th>\n",
       "      <th>pixel779</th>\n",
       "      <th>pixel780</th>\n",
       "      <th>pixel781</th>\n",
       "      <th>pixel782</th>\n",
       "      <th>pixel783</th>\n",
       "    </tr>\n",
       "  </thead>\n",
       "  <tbody>\n",
       "    <tr>\n",
       "      <th>25153</th>\n",
       "      <td>0.0</td>\n",
       "      <td>0.0</td>\n",
       "      <td>0.0</td>\n",
       "      <td>0.0</td>\n",
       "      <td>0.0</td>\n",
       "      <td>0.0</td>\n",
       "      <td>0.0</td>\n",
       "      <td>0.0</td>\n",
       "      <td>0.0</td>\n",
       "      <td>0.0</td>\n",
       "      <td>...</td>\n",
       "      <td>-0.035443</td>\n",
       "      <td>-0.023117</td>\n",
       "      <td>-0.01385</td>\n",
       "      <td>-0.009396</td>\n",
       "      <td>-0.009579</td>\n",
       "      <td>-0.0063</td>\n",
       "      <td>0.0</td>\n",
       "      <td>0.0</td>\n",
       "      <td>0.0</td>\n",
       "      <td>0.0</td>\n",
       "    </tr>\n",
       "    <tr>\n",
       "      <th>14350</th>\n",
       "      <td>0.0</td>\n",
       "      <td>0.0</td>\n",
       "      <td>0.0</td>\n",
       "      <td>0.0</td>\n",
       "      <td>0.0</td>\n",
       "      <td>0.0</td>\n",
       "      <td>0.0</td>\n",
       "      <td>0.0</td>\n",
       "      <td>0.0</td>\n",
       "      <td>0.0</td>\n",
       "      <td>...</td>\n",
       "      <td>-0.035443</td>\n",
       "      <td>-0.023117</td>\n",
       "      <td>-0.01385</td>\n",
       "      <td>-0.009396</td>\n",
       "      <td>-0.009579</td>\n",
       "      <td>-0.0063</td>\n",
       "      <td>0.0</td>\n",
       "      <td>0.0</td>\n",
       "      <td>0.0</td>\n",
       "      <td>0.0</td>\n",
       "    </tr>\n",
       "    <tr>\n",
       "      <th>24843</th>\n",
       "      <td>0.0</td>\n",
       "      <td>0.0</td>\n",
       "      <td>0.0</td>\n",
       "      <td>0.0</td>\n",
       "      <td>0.0</td>\n",
       "      <td>0.0</td>\n",
       "      <td>0.0</td>\n",
       "      <td>0.0</td>\n",
       "      <td>0.0</td>\n",
       "      <td>0.0</td>\n",
       "      <td>...</td>\n",
       "      <td>-0.035443</td>\n",
       "      <td>-0.023117</td>\n",
       "      <td>-0.01385</td>\n",
       "      <td>-0.009396</td>\n",
       "      <td>-0.009579</td>\n",
       "      <td>-0.0063</td>\n",
       "      <td>0.0</td>\n",
       "      <td>0.0</td>\n",
       "      <td>0.0</td>\n",
       "      <td>0.0</td>\n",
       "    </tr>\n",
       "    <tr>\n",
       "      <th>6282</th>\n",
       "      <td>0.0</td>\n",
       "      <td>0.0</td>\n",
       "      <td>0.0</td>\n",
       "      <td>0.0</td>\n",
       "      <td>0.0</td>\n",
       "      <td>0.0</td>\n",
       "      <td>0.0</td>\n",
       "      <td>0.0</td>\n",
       "      <td>0.0</td>\n",
       "      <td>0.0</td>\n",
       "      <td>...</td>\n",
       "      <td>-0.035443</td>\n",
       "      <td>-0.023117</td>\n",
       "      <td>-0.01385</td>\n",
       "      <td>-0.009396</td>\n",
       "      <td>-0.009579</td>\n",
       "      <td>-0.0063</td>\n",
       "      <td>0.0</td>\n",
       "      <td>0.0</td>\n",
       "      <td>0.0</td>\n",
       "      <td>0.0</td>\n",
       "    </tr>\n",
       "    <tr>\n",
       "      <th>41796</th>\n",
       "      <td>0.0</td>\n",
       "      <td>0.0</td>\n",
       "      <td>0.0</td>\n",
       "      <td>0.0</td>\n",
       "      <td>0.0</td>\n",
       "      <td>0.0</td>\n",
       "      <td>0.0</td>\n",
       "      <td>0.0</td>\n",
       "      <td>0.0</td>\n",
       "      <td>0.0</td>\n",
       "      <td>...</td>\n",
       "      <td>-0.035443</td>\n",
       "      <td>-0.023117</td>\n",
       "      <td>-0.01385</td>\n",
       "      <td>-0.009396</td>\n",
       "      <td>-0.009579</td>\n",
       "      <td>-0.0063</td>\n",
       "      <td>0.0</td>\n",
       "      <td>0.0</td>\n",
       "      <td>0.0</td>\n",
       "      <td>0.0</td>\n",
       "    </tr>\n",
       "    <tr>\n",
       "      <th>...</th>\n",
       "      <td>...</td>\n",
       "      <td>...</td>\n",
       "      <td>...</td>\n",
       "      <td>...</td>\n",
       "      <td>...</td>\n",
       "      <td>...</td>\n",
       "      <td>...</td>\n",
       "      <td>...</td>\n",
       "      <td>...</td>\n",
       "      <td>...</td>\n",
       "      <td>...</td>\n",
       "      <td>...</td>\n",
       "      <td>...</td>\n",
       "      <td>...</td>\n",
       "      <td>...</td>\n",
       "      <td>...</td>\n",
       "      <td>...</td>\n",
       "      <td>...</td>\n",
       "      <td>...</td>\n",
       "      <td>...</td>\n",
       "      <td>...</td>\n",
       "    </tr>\n",
       "    <tr>\n",
       "      <th>7813</th>\n",
       "      <td>0.0</td>\n",
       "      <td>0.0</td>\n",
       "      <td>0.0</td>\n",
       "      <td>0.0</td>\n",
       "      <td>0.0</td>\n",
       "      <td>0.0</td>\n",
       "      <td>0.0</td>\n",
       "      <td>0.0</td>\n",
       "      <td>0.0</td>\n",
       "      <td>0.0</td>\n",
       "      <td>...</td>\n",
       "      <td>-0.035443</td>\n",
       "      <td>-0.023117</td>\n",
       "      <td>-0.01385</td>\n",
       "      <td>-0.009396</td>\n",
       "      <td>-0.009579</td>\n",
       "      <td>-0.0063</td>\n",
       "      <td>0.0</td>\n",
       "      <td>0.0</td>\n",
       "      <td>0.0</td>\n",
       "      <td>0.0</td>\n",
       "    </tr>\n",
       "    <tr>\n",
       "      <th>32511</th>\n",
       "      <td>0.0</td>\n",
       "      <td>0.0</td>\n",
       "      <td>0.0</td>\n",
       "      <td>0.0</td>\n",
       "      <td>0.0</td>\n",
       "      <td>0.0</td>\n",
       "      <td>0.0</td>\n",
       "      <td>0.0</td>\n",
       "      <td>0.0</td>\n",
       "      <td>0.0</td>\n",
       "      <td>...</td>\n",
       "      <td>-0.035443</td>\n",
       "      <td>-0.023117</td>\n",
       "      <td>-0.01385</td>\n",
       "      <td>-0.009396</td>\n",
       "      <td>-0.009579</td>\n",
       "      <td>-0.0063</td>\n",
       "      <td>0.0</td>\n",
       "      <td>0.0</td>\n",
       "      <td>0.0</td>\n",
       "      <td>0.0</td>\n",
       "    </tr>\n",
       "    <tr>\n",
       "      <th>5192</th>\n",
       "      <td>0.0</td>\n",
       "      <td>0.0</td>\n",
       "      <td>0.0</td>\n",
       "      <td>0.0</td>\n",
       "      <td>0.0</td>\n",
       "      <td>0.0</td>\n",
       "      <td>0.0</td>\n",
       "      <td>0.0</td>\n",
       "      <td>0.0</td>\n",
       "      <td>0.0</td>\n",
       "      <td>...</td>\n",
       "      <td>-0.035443</td>\n",
       "      <td>-0.023117</td>\n",
       "      <td>-0.01385</td>\n",
       "      <td>-0.009396</td>\n",
       "      <td>-0.009579</td>\n",
       "      <td>-0.0063</td>\n",
       "      <td>0.0</td>\n",
       "      <td>0.0</td>\n",
       "      <td>0.0</td>\n",
       "      <td>0.0</td>\n",
       "    </tr>\n",
       "    <tr>\n",
       "      <th>12172</th>\n",
       "      <td>0.0</td>\n",
       "      <td>0.0</td>\n",
       "      <td>0.0</td>\n",
       "      <td>0.0</td>\n",
       "      <td>0.0</td>\n",
       "      <td>0.0</td>\n",
       "      <td>0.0</td>\n",
       "      <td>0.0</td>\n",
       "      <td>0.0</td>\n",
       "      <td>0.0</td>\n",
       "      <td>...</td>\n",
       "      <td>-0.035443</td>\n",
       "      <td>-0.023117</td>\n",
       "      <td>-0.01385</td>\n",
       "      <td>-0.009396</td>\n",
       "      <td>-0.009579</td>\n",
       "      <td>-0.0063</td>\n",
       "      <td>0.0</td>\n",
       "      <td>0.0</td>\n",
       "      <td>0.0</td>\n",
       "      <td>0.0</td>\n",
       "    </tr>\n",
       "    <tr>\n",
       "      <th>33003</th>\n",
       "      <td>0.0</td>\n",
       "      <td>0.0</td>\n",
       "      <td>0.0</td>\n",
       "      <td>0.0</td>\n",
       "      <td>0.0</td>\n",
       "      <td>0.0</td>\n",
       "      <td>0.0</td>\n",
       "      <td>0.0</td>\n",
       "      <td>0.0</td>\n",
       "      <td>0.0</td>\n",
       "      <td>...</td>\n",
       "      <td>-0.035443</td>\n",
       "      <td>-0.023117</td>\n",
       "      <td>-0.01385</td>\n",
       "      <td>-0.009396</td>\n",
       "      <td>-0.009579</td>\n",
       "      <td>-0.0063</td>\n",
       "      <td>0.0</td>\n",
       "      <td>0.0</td>\n",
       "      <td>0.0</td>\n",
       "      <td>0.0</td>\n",
       "    </tr>\n",
       "  </tbody>\n",
       "</table>\n",
       "<p>25200 rows × 784 columns</p>\n",
       "</div>"
      ],
      "text/plain": [
       "       pixel0  pixel1  pixel2  pixel3  pixel4  pixel5  pixel6  pixel7  pixel8  \\\n",
       "25153     0.0     0.0     0.0     0.0     0.0     0.0     0.0     0.0     0.0   \n",
       "14350     0.0     0.0     0.0     0.0     0.0     0.0     0.0     0.0     0.0   \n",
       "24843     0.0     0.0     0.0     0.0     0.0     0.0     0.0     0.0     0.0   \n",
       "6282      0.0     0.0     0.0     0.0     0.0     0.0     0.0     0.0     0.0   \n",
       "41796     0.0     0.0     0.0     0.0     0.0     0.0     0.0     0.0     0.0   \n",
       "...       ...     ...     ...     ...     ...     ...     ...     ...     ...   \n",
       "7813      0.0     0.0     0.0     0.0     0.0     0.0     0.0     0.0     0.0   \n",
       "32511     0.0     0.0     0.0     0.0     0.0     0.0     0.0     0.0     0.0   \n",
       "5192      0.0     0.0     0.0     0.0     0.0     0.0     0.0     0.0     0.0   \n",
       "12172     0.0     0.0     0.0     0.0     0.0     0.0     0.0     0.0     0.0   \n",
       "33003     0.0     0.0     0.0     0.0     0.0     0.0     0.0     0.0     0.0   \n",
       "\n",
       "       pixel9  ...  pixel774  pixel775  pixel776  pixel777  pixel778  \\\n",
       "25153     0.0  ... -0.035443 -0.023117  -0.01385 -0.009396 -0.009579   \n",
       "14350     0.0  ... -0.035443 -0.023117  -0.01385 -0.009396 -0.009579   \n",
       "24843     0.0  ... -0.035443 -0.023117  -0.01385 -0.009396 -0.009579   \n",
       "6282      0.0  ... -0.035443 -0.023117  -0.01385 -0.009396 -0.009579   \n",
       "41796     0.0  ... -0.035443 -0.023117  -0.01385 -0.009396 -0.009579   \n",
       "...       ...  ...       ...       ...       ...       ...       ...   \n",
       "7813      0.0  ... -0.035443 -0.023117  -0.01385 -0.009396 -0.009579   \n",
       "32511     0.0  ... -0.035443 -0.023117  -0.01385 -0.009396 -0.009579   \n",
       "5192      0.0  ... -0.035443 -0.023117  -0.01385 -0.009396 -0.009579   \n",
       "12172     0.0  ... -0.035443 -0.023117  -0.01385 -0.009396 -0.009579   \n",
       "33003     0.0  ... -0.035443 -0.023117  -0.01385 -0.009396 -0.009579   \n",
       "\n",
       "       pixel779  pixel780  pixel781  pixel782  pixel783  \n",
       "25153   -0.0063       0.0       0.0       0.0       0.0  \n",
       "14350   -0.0063       0.0       0.0       0.0       0.0  \n",
       "24843   -0.0063       0.0       0.0       0.0       0.0  \n",
       "6282    -0.0063       0.0       0.0       0.0       0.0  \n",
       "41796   -0.0063       0.0       0.0       0.0       0.0  \n",
       "...         ...       ...       ...       ...       ...  \n",
       "7813    -0.0063       0.0       0.0       0.0       0.0  \n",
       "32511   -0.0063       0.0       0.0       0.0       0.0  \n",
       "5192    -0.0063       0.0       0.0       0.0       0.0  \n",
       "12172   -0.0063       0.0       0.0       0.0       0.0  \n",
       "33003   -0.0063       0.0       0.0       0.0       0.0  \n",
       "\n",
       "[25200 rows x 784 columns]"
      ]
     },
     "execution_count": 109,
     "metadata": {},
     "output_type": "execute_result"
    }
   ],
   "source": [
    "from sklearn.preprocessing import StandardScaler\n",
    "sc=StandardScaler()\n",
    "Xtrain[::]=sc.fit_transform(Xtrain[::])\n",
    "Xtest[::]=sc.fit_transform(Xtest[::])\n",
    "Xtest\n",
    "Xtrain"
   ]
  },
  {
   "cell_type": "markdown",
   "id": "bd0a9ae1",
   "metadata": {},
   "source": [
    "## PART 2 : BUILDING A CLASSIFICATION MODEL"
   ]
  },
  {
   "cell_type": "markdown",
   "id": "e4e31b9e",
   "metadata": {},
   "source": [
    "### LOGISTIC REGRESSION"
   ]
  },
  {
   "cell_type": "code",
   "execution_count": 110,
   "id": "bc2fb48f",
   "metadata": {},
   "outputs": [],
   "source": [
    "from sklearn.linear_model import LogisticRegression\n",
    "LR=LogisticRegression()"
   ]
  },
  {
   "cell_type": "code",
   "execution_count": 111,
   "id": "77587713",
   "metadata": {},
   "outputs": [
    {
     "name": "stderr",
     "output_type": "stream",
     "text": [
      "C:\\Users\\Lenovo\\anaconda3\\lib\\site-packages\\sklearn\\linear_model\\_logistic.py:814: ConvergenceWarning: lbfgs failed to converge (status=1):\n",
      "STOP: TOTAL NO. of ITERATIONS REACHED LIMIT.\n",
      "\n",
      "Increase the number of iterations (max_iter) or scale the data as shown in:\n",
      "    https://scikit-learn.org/stable/modules/preprocessing.html\n",
      "Please also refer to the documentation for alternative solver options:\n",
      "    https://scikit-learn.org/stable/modules/linear_model.html#logistic-regression\n",
      "  n_iter_i = _check_optimize_result(\n"
     ]
    },
    {
     "data": {
      "text/plain": [
       "LogisticRegression()"
      ]
     },
     "execution_count": 111,
     "metadata": {},
     "output_type": "execute_result"
    }
   ],
   "source": [
    "LR.fit(Xtrain,Ytrain)"
   ]
  },
  {
   "cell_type": "code",
   "execution_count": 112,
   "id": "11babc87",
   "metadata": {},
   "outputs": [],
   "source": [
    "Yest_lr=LR.predict(Xtest) #Estimated or predicted value"
   ]
  },
  {
   "cell_type": "code",
   "execution_count": 113,
   "id": "e412edc4",
   "metadata": {
    "scrolled": true
   },
   "outputs": [
    {
     "name": "stdout",
     "output_type": "stream",
     "text": [
      "Confusion Matrix for Logistic Regression Model is : \n",
      "[[1579    0   10    3    6   18   31    5   12    3]\n",
      " [   0 1787    9    8    2    6    5    2   23    5]\n",
      " [  11   30 1483   35   18   13   28   23   32    9]\n",
      " [   4    7   46 1538    4   78    6   21   48   23]\n",
      " [   6   13   21    1 1480    4   28   15   12   56]\n",
      " [  20   14   23   62   17 1275   23   10   35   18]\n",
      " [  10    5   13    3   17   26 1578    3    8    1]\n",
      " [   1    6   16   15   21    2    2 1590    6   80]\n",
      " [  13   37   31   49   10   66   13    3 1360   35]\n",
      " [   6    7   14   22   77   20    2   69   12 1447]].\n"
     ]
    }
   ],
   "source": [
    "print(f'Confusion Matrix for Logistic Regression Model is : \\n{confusion_matrix(Ytest,Yest_lr)}.')"
   ]
  },
  {
   "cell_type": "code",
   "execution_count": 114,
   "id": "e05b79f4",
   "metadata": {},
   "outputs": [
    {
     "name": "stdout",
     "output_type": "stream",
     "text": [
      "Accuracy Score is 0.8998214285714285.\n",
      "Recall Score is 0.8998214285714285.\n",
      "Precison Score is 0.8998214285714285.\n",
      "F1 Score is 0.8998214285714285.\n",
      "Mean Absolute Error of the Model is given as 0.355.\n",
      "Mean Squared Error of the Model is given as 1.644404761904762.\n",
      "R2 score of the Model is 0.8026547680022762.\n",
      "Root mean squared error is 1.2823434648738854.\n"
     ]
    }
   ],
   "source": [
    "print(f'Accuracy Score is {accuracy_score(Ytest,Yest_lr)}.')\n",
    "print(f\"Recall Score is {recall_score(Ytest,Yest_lr,average='micro')}.\")\n",
    "print(f\"Precison Score is {precision_score(Ytest,Yest_lr,average='micro')}.\")\n",
    "print(f\"F1 Score is {f1_score(Ytest,Yest_lr,average='micro')}.\")\n",
    "print(f'Mean Absolute Error of the Model is given as {mean_absolute_error(Ytest,Yest_lr)}.')\n",
    "print(f'Mean Squared Error of the Model is given as {mean_squared_error(Ytest,Yest_lr)}.')\n",
    "print(f'R2 score of the Model is {r2_score(Ytest,Yest_lr)}.')\n",
    "print(f'Root mean squared error is {np.sqrt(mean_squared_error(Ytest,Yest_lr))}.')"
   ]
  },
  {
   "cell_type": "markdown",
   "id": "eeaa0c64",
   "metadata": {},
   "source": [
    "## NAIVE BAYE'S CLASSIFICATION"
   ]
  },
  {
   "cell_type": "code",
   "execution_count": 115,
   "id": "aab99006",
   "metadata": {},
   "outputs": [],
   "source": [
    "from sklearn.naive_bayes import GaussianNB\n",
    "gnb=GaussianNB()"
   ]
  },
  {
   "cell_type": "code",
   "execution_count": 116,
   "id": "fae75634",
   "metadata": {},
   "outputs": [
    {
     "data": {
      "text/plain": [
       "GaussianNB()"
      ]
     },
     "execution_count": 116,
     "metadata": {},
     "output_type": "execute_result"
    }
   ],
   "source": [
    "gnb.fit(Xtrain,Ytrain)"
   ]
  },
  {
   "cell_type": "code",
   "execution_count": 117,
   "id": "f04cc99b",
   "metadata": {},
   "outputs": [],
   "source": [
    "Yest_gnb=gnb.predict(Xtest)"
   ]
  },
  {
   "cell_type": "code",
   "execution_count": 118,
   "id": "c2aab956",
   "metadata": {},
   "outputs": [
    {
     "name": "stdout",
     "output_type": "stream",
     "text": [
      "Confusion Matrix of Naive Bayes Classification is:\n",
      " [[   0    0   56 1480    3    0    0  128    0    0]\n",
      " [   0    0   16 1828    1    0    0    2    0    0]\n",
      " [   0    1  322 1244    0    1    6  105    2    1]\n",
      " [   0    0    7 1763    0    0    0    4    0    1]\n",
      " [   0    0   33 1530   39    3    0   31    0    0]\n",
      " [   0    0   60 1068  214   17    0  137    1    0]\n",
      " [   0    0  777  754   11   67   47    8    0    0]\n",
      " [   0    0    2 1242    0    0    0  494    0    1]\n",
      " [   0    0   19 1462   62    7    0   65    2    0]\n",
      " [   0    0    6 1549    1    0    0  119    0    1]].\n"
     ]
    }
   ],
   "source": [
    "print(f'Confusion Matrix of Naive Bayes Classification is:\\n {confusion_matrix(Ytest,Yest_gnb)}.')"
   ]
  },
  {
   "cell_type": "code",
   "execution_count": 119,
   "id": "8a156726",
   "metadata": {},
   "outputs": [
    {
     "name": "stdout",
     "output_type": "stream",
     "text": [
      "Accuracy Score is 0.15982142857142856.\n",
      "Recall Score is 0.15982142857142856.\n",
      "Precison Score is 0.15982142857142856.\n",
      "F1 Score is 0.15982142857142856.\n",
      "Mean Absolute Error of the Model is given as 2.575892857142857.\n",
      "Mean Squared Error of the Model is given as 10.30827380952381.\n",
      "R2 score of the Model is -0.2370972971886558.\n",
      "Root mean squared error is 3.2106500602718775.\n"
     ]
    }
   ],
   "source": [
    "print(f'Accuracy Score is {accuracy_score(Ytest,Yest_gnb)}.')\n",
    "print(f\"Recall Score is {recall_score(Ytest,Yest_gnb,average='micro')}.\")\n",
    "print(f\"Precison Score is {precision_score(Ytest,Yest_gnb,average='micro')}.\")\n",
    "print(f\"F1 Score is {f1_score(Ytest,Yest_gnb,average='micro')}.\")\n",
    "print(f'Mean Absolute Error of the Model is given as {mean_absolute_error(Ytest,Yest_gnb)}.')\n",
    "print(f'Mean Squared Error of the Model is given as {mean_squared_error(Ytest,Yest_gnb)}.')\n",
    "print(f'R2 score of the Model is {r2_score(Ytest,Yest_gnb)}.')\n",
    "print(f'Root mean squared error is {np.sqrt(mean_squared_error(Ytest,Yest_gnb))}.')"
   ]
  },
  {
   "cell_type": "markdown",
   "id": "f565e5ff",
   "metadata": {},
   "source": [
    "## RANDOM FOREST TREE MODEL"
   ]
  },
  {
   "cell_type": "code",
   "execution_count": 120,
   "id": "30e36197",
   "metadata": {},
   "outputs": [],
   "source": [
    "from sklearn.ensemble import RandomForestClassifier\n",
    "rf=RandomForestClassifier(n_estimators=700,criterion='entropy')"
   ]
  },
  {
   "cell_type": "code",
   "execution_count": 121,
   "id": "df8927bc",
   "metadata": {},
   "outputs": [
    {
     "data": {
      "text/plain": [
       "RandomForestClassifier(criterion='entropy', n_estimators=700)"
      ]
     },
     "execution_count": 121,
     "metadata": {},
     "output_type": "execute_result"
    }
   ],
   "source": [
    "rf.fit(Xtrain,Ytrain)"
   ]
  },
  {
   "cell_type": "code",
   "execution_count": 122,
   "id": "190a406f",
   "metadata": {},
   "outputs": [],
   "source": [
    "Yest_rf=rf.predict(Xtest)"
   ]
  },
  {
   "cell_type": "code",
   "execution_count": 123,
   "id": "7329656f",
   "metadata": {},
   "outputs": [
    {
     "name": "stdout",
     "output_type": "stream",
     "text": [
      "Confusion Matrix of Random Forest is:\n",
      " [[1635    0    3    0    2    3    9    1   13    1]\n",
      " [   0 1817    5   13    3    2    2    1    4    0]\n",
      " [   3    1 1618   10   10    1   13   12   11    3]\n",
      " [   2    1   27 1670    1   28    0   11   25   10]\n",
      " [   3    2    7    0 1579    1    7    4    2   31]\n",
      " [   8    2    3   20    1 1427   12    4   10   10]\n",
      " [   4    0    2    0    6    9 1641    0    2    0]\n",
      " [   1    2   24    0   13    0    0 1662    4   33]\n",
      " [   2   10    3    8    9   15    6    1 1541   22]\n",
      " [   8    1    7   26   29    3    1   17   10 1574]].\n"
     ]
    }
   ],
   "source": [
    "print(f'Confusion Matrix of Random Forest is:\\n {confusion_matrix(Ytest,Yest_rf)}.')"
   ]
  },
  {
   "cell_type": "code",
   "execution_count": 124,
   "id": "55e8acd0",
   "metadata": {},
   "outputs": [
    {
     "name": "stdout",
     "output_type": "stream",
     "text": [
      "Accuracy Score is 0.9621428571428572.\n",
      "Recall Score is 0.9621428571428572.\n",
      "Precison Score is 0.9621428571428572.\n",
      "F1 Score is 0.9621428571428572.\n",
      "Mean Absolute Error of the Model is given as 0.1380357142857143.\n",
      "Mean Squared Error of the Model is given as 0.6623214285714286.\n",
      "R2 score of the Model is 0.9205147181481694.\n",
      "Root mean squared error is 0.8138313268555276.\n"
     ]
    }
   ],
   "source": [
    "print(f'Accuracy Score is {accuracy_score(Ytest,Yest_rf)}.')\n",
    "print(f\"Recall Score is {recall_score(Ytest,Yest_rf,average='micro')}.\")\n",
    "print(f\"Precison Score is {precision_score(Ytest,Yest_rf,average='micro')}.\")\n",
    "print(f\"F1 Score is {f1_score(Ytest,Yest_rf,average='micro')}.\")\n",
    "print(f'Mean Absolute Error of the Model is given as {mean_absolute_error(Ytest,Yest_rf)}.')\n",
    "print(f'Mean Squared Error of the Model is given as {mean_squared_error(Ytest,Yest_rf)}.')\n",
    "print(f'R2 score of the Model is {r2_score(Ytest,Yest_rf)}.')\n",
    "print(f'Root mean squared error is {np.sqrt(mean_squared_error(Ytest,Yest_rf))}.')"
   ]
  },
  {
   "cell_type": "markdown",
   "id": "129a7c77",
   "metadata": {},
   "source": [
    "## SVM MODEL (SUPPORT VECTOR MACHINES)"
   ]
  },
  {
   "cell_type": "code",
   "execution_count": 125,
   "id": "23698903",
   "metadata": {},
   "outputs": [],
   "source": [
    "from sklearn import svm\n",
    "clf=svm.SVC(decision_function_shape='ovo')"
   ]
  },
  {
   "cell_type": "code",
   "execution_count": 126,
   "id": "308fd556",
   "metadata": {},
   "outputs": [
    {
     "data": {
      "text/plain": [
       "SVC(decision_function_shape='ovo')"
      ]
     },
     "execution_count": 126,
     "metadata": {},
     "output_type": "execute_result"
    }
   ],
   "source": [
    "clf.fit(Xtrain,Ytrain)"
   ]
  },
  {
   "cell_type": "code",
   "execution_count": 127,
   "id": "db88d933",
   "metadata": {},
   "outputs": [],
   "source": [
    "Yest_clf=clf.predict(Xtest)"
   ]
  },
  {
   "cell_type": "code",
   "execution_count": 128,
   "id": "5c82d360",
   "metadata": {},
   "outputs": [
    {
     "name": "stdout",
     "output_type": "stream",
     "text": [
      "Confusion Matrix of SVM is:\n",
      " [[1637    0    5    0    3    3   12    5    2    0]\n",
      " [   0 1824    7    4    2    1    2    3    3    1]\n",
      " [   3    1 1618    9    7    0    8   24   11    1]\n",
      " [   0    6   28 1668    0   24    3   22   18    6]\n",
      " [   0    2   22    1 1570    1    8   11    0   21]\n",
      " [   4    4    7   26    3 1418   14   14    3    4]\n",
      " [   8    1    6    1    4   12 1615   15    2    0]\n",
      " [   0    5   11    3   11    0    0 1679    1   29]\n",
      " [   3   17    9   12    6   19    6   12 1526    7]\n",
      " [   4    0    9   17   30    3    0   60    6 1547]].\n"
     ]
    }
   ],
   "source": [
    "print(f'Confusion Matrix of SVM is:\\n {confusion_matrix(Ytest,Yest_clf)}.')"
   ]
  },
  {
   "cell_type": "code",
   "execution_count": 129,
   "id": "cad2a197",
   "metadata": {},
   "outputs": [
    {
     "name": "stdout",
     "output_type": "stream",
     "text": [
      "Accuracy Score is 0.958452380952381.\n",
      "Recall Score is 0.958452380952381.\n",
      "Precison Score is 0.958452380952381.\n",
      "F1 Score is 0.958452380952381.\n",
      "Mean Absolute Error of the Model is given as 0.14041666666666666.\n",
      "Mean Squared Error of the Model is given as 0.6319642857142858.\n",
      "R2 score of the Model is 0.9241578828596311.\n",
      "Root mean squared error is 0.7949618139975566.\n"
     ]
    }
   ],
   "source": [
    "print(f'Accuracy Score is {accuracy_score(Ytest,Yest_clf)}.')\n",
    "print(f\"Recall Score is {recall_score(Ytest,Yest_clf,average='micro')}.\")\n",
    "print(f\"Precison Score is {precision_score(Ytest,Yest_clf,average='micro')}.\")\n",
    "print(f\"F1 Score is {f1_score(Ytest,Yest_clf,average='micro')}.\")\n",
    "print(f'Mean Absolute Error of the Model is given as {mean_absolute_error(Ytest,Yest_clf)}.')\n",
    "print(f'Mean Squared Error of the Model is given as {mean_squared_error(Ytest,Yest_clf)}.')\n",
    "print(f'R2 score of the Model is {r2_score(Ytest,Yest_clf)}.')\n",
    "print(f'Root mean squared error is {np.sqrt(mean_squared_error(Ytest,Yest_clf))}.')"
   ]
  },
  {
   "cell_type": "markdown",
   "id": "146a95a8",
   "metadata": {},
   "source": [
    "## KNN"
   ]
  },
  {
   "cell_type": "code",
   "execution_count": 130,
   "id": "d5af0434",
   "metadata": {},
   "outputs": [],
   "source": [
    "from sklearn.neighbors import KNeighborsClassifier\n",
    "KC=KNeighborsClassifier(n_neighbors=5)"
   ]
  },
  {
   "cell_type": "code",
   "execution_count": 131,
   "id": "bcae79ab",
   "metadata": {},
   "outputs": [
    {
     "data": {
      "text/plain": [
       "KNeighborsClassifier()"
      ]
     },
     "execution_count": 131,
     "metadata": {},
     "output_type": "execute_result"
    }
   ],
   "source": [
    "KC.fit(Xtrain,Ytrain)"
   ]
  },
  {
   "cell_type": "code",
   "execution_count": 132,
   "id": "0557e775",
   "metadata": {},
   "outputs": [],
   "source": [
    "Yest_KNN=KC.predict(Xtest)"
   ]
  },
  {
   "cell_type": "code",
   "execution_count": 133,
   "id": "f4680ebf",
   "metadata": {},
   "outputs": [
    {
     "name": "stdout",
     "output_type": "stream",
     "text": [
      "Confusion Matrix of KNN is is:\n",
      " [[1646    0    5    0    1    2   10    1    0    2]\n",
      " [   0 1832    4    1    1    0    6    1    1    1]\n",
      " [  17   27 1554   23   14    3   16   15    9    4]\n",
      " [   5    6   25 1666    0   29    3   19   16    6]\n",
      " [   0   16   19    5 1514    1    9   11    1   60]\n",
      " [   7    4    6   57    5 1357   29    6    9   17]\n",
      " [  29    3    4    1    3   11 1611    1    1    0]\n",
      " [   1   20   10   11   14    0    0 1611    0   72]\n",
      " [  17   31   15   43   14   60   11    8 1400   18]\n",
      " [  14    3    8   17   40    6    0   64    6 1518]].\n"
     ]
    }
   ],
   "source": [
    "print(f'Confusion Matrix of KNN is is:\\n {confusion_matrix(Ytest,Yest_KNN)}.')"
   ]
  },
  {
   "cell_type": "code",
   "execution_count": 134,
   "id": "4f9d8e36",
   "metadata": {},
   "outputs": [
    {
     "name": "stdout",
     "output_type": "stream",
     "text": [
      "Accuracy Score is 0.9350595238095238.\n",
      "Recall Score is 0.9350595238095238.\n",
      "Precison Score is 0.9350595238095238.\n",
      "F1 Score is 0.9350595238095238.\n",
      "Mean Absolute Error of the Model is given as 0.22833333333333333.\n",
      "Mean Squared Error of the Model is given as 1.0633333333333332.\n",
      "R2 score of the Model is 0.872389226655783.\n",
      "Root mean squared error is 1.0311805532172014.\n"
     ]
    }
   ],
   "source": [
    "print(f'Accuracy Score is {accuracy_score(Ytest,Yest_KNN)}.')\n",
    "print(f\"Recall Score is {recall_score(Ytest,Yest_KNN,average='micro')}.\")\n",
    "print(f\"Precison Score is {precision_score(Ytest,Yest_KNN,average='micro')}.\")\n",
    "print(f\"F1 Score is {f1_score(Ytest,Yest_KNN,average='micro')}.\")\n",
    "print(f'Mean Absolute Error of the Model is given as {mean_absolute_error(Ytest,Yest_KNN)}.')\n",
    "print(f'Mean Squared Error of the Model is given as {mean_squared_error(Ytest,Yest_KNN)}.')\n",
    "print(f'R2 score of the Model is {r2_score(Ytest,Yest_KNN)}.')\n",
    "print(f'Root mean squared error is {np.sqrt(mean_squared_error(Ytest,Yest_KNN))}.')"
   ]
  },
  {
   "cell_type": "markdown",
   "id": "da900cda",
   "metadata": {},
   "source": [
    "### ACCURACY OF ALL THE MODELS AT ONE PLACE"
   ]
  },
  {
   "cell_type": "code",
   "execution_count": 135,
   "id": "b18b8bf7",
   "metadata": {},
   "outputs": [
    {
     "name": "stdout",
     "output_type": "stream",
     "text": [
      "Accuracy Score  of 'Logistic Regression Model' is 0.8998214285714285.\n",
      "Accuracy Score  of 'Naive Bayes Model' is 0.15982142857142856.\n",
      "Accuracy Score  of 'Random Forest Tree Model' is 0.9621428571428572.\n",
      "Accuracy Score  of 'SVM Model' is 0.958452380952381.\n",
      "Accuracy Score  of 'KNN Model' is 0.9350595238095238.\n"
     ]
    }
   ],
   "source": [
    "print(f\"Accuracy Score  of 'Logistic Regression Model' is {accuracy_score(Ytest,Yest_lr)}.\")\n",
    "print(f\"Accuracy Score  of 'Naive Bayes Model' is {accuracy_score(Ytest,Yest_gnb)}.\")\n",
    "print(f\"Accuracy Score  of 'Random Forest Tree Model' is {accuracy_score(Ytest,Yest_rf)}.\")\n",
    "print(f\"Accuracy Score  of 'SVM Model' is {accuracy_score(Ytest,Yest_clf)}.\")\n",
    "print(f\"Accuracy Score  of 'KNN Model' is {accuracy_score(Ytest,Yest_KNN)}.\")"
   ]
  },
  {
   "cell_type": "markdown",
   "id": "f916ddec",
   "metadata": {},
   "source": [
    "# TESTING OF DATA "
   ]
  },
  {
   "cell_type": "markdown",
   "id": "7d495691",
   "metadata": {},
   "source": [
    "#### Test data provides a final,real-world check of an unseen dataset to confirm that the machine learning algorithm was trained effectively."
   ]
  },
  {
   "cell_type": "code",
   "execution_count": 136,
   "id": "b28fcabf",
   "metadata": {},
   "outputs": [
    {
     "data": {
      "text/html": [
       "<div>\n",
       "<style scoped>\n",
       "    .dataframe tbody tr th:only-of-type {\n",
       "        vertical-align: middle;\n",
       "    }\n",
       "\n",
       "    .dataframe tbody tr th {\n",
       "        vertical-align: top;\n",
       "    }\n",
       "\n",
       "    .dataframe thead th {\n",
       "        text-align: right;\n",
       "    }\n",
       "</style>\n",
       "<table border=\"1\" class=\"dataframe\">\n",
       "  <thead>\n",
       "    <tr style=\"text-align: right;\">\n",
       "      <th></th>\n",
       "      <th>pixel0</th>\n",
       "      <th>pixel1</th>\n",
       "      <th>pixel2</th>\n",
       "      <th>pixel3</th>\n",
       "      <th>pixel4</th>\n",
       "      <th>pixel5</th>\n",
       "      <th>pixel6</th>\n",
       "      <th>pixel7</th>\n",
       "      <th>pixel8</th>\n",
       "      <th>pixel9</th>\n",
       "      <th>...</th>\n",
       "      <th>pixel774</th>\n",
       "      <th>pixel775</th>\n",
       "      <th>pixel776</th>\n",
       "      <th>pixel777</th>\n",
       "      <th>pixel778</th>\n",
       "      <th>pixel779</th>\n",
       "      <th>pixel780</th>\n",
       "      <th>pixel781</th>\n",
       "      <th>pixel782</th>\n",
       "      <th>pixel783</th>\n",
       "    </tr>\n",
       "  </thead>\n",
       "  <tbody>\n",
       "    <tr>\n",
       "      <th>0</th>\n",
       "      <td>0</td>\n",
       "      <td>0</td>\n",
       "      <td>0</td>\n",
       "      <td>0</td>\n",
       "      <td>0</td>\n",
       "      <td>0</td>\n",
       "      <td>0</td>\n",
       "      <td>0</td>\n",
       "      <td>0</td>\n",
       "      <td>0</td>\n",
       "      <td>...</td>\n",
       "      <td>0</td>\n",
       "      <td>0</td>\n",
       "      <td>0</td>\n",
       "      <td>0</td>\n",
       "      <td>0</td>\n",
       "      <td>0</td>\n",
       "      <td>0</td>\n",
       "      <td>0</td>\n",
       "      <td>0</td>\n",
       "      <td>0</td>\n",
       "    </tr>\n",
       "    <tr>\n",
       "      <th>1</th>\n",
       "      <td>0</td>\n",
       "      <td>0</td>\n",
       "      <td>0</td>\n",
       "      <td>0</td>\n",
       "      <td>0</td>\n",
       "      <td>0</td>\n",
       "      <td>0</td>\n",
       "      <td>0</td>\n",
       "      <td>0</td>\n",
       "      <td>0</td>\n",
       "      <td>...</td>\n",
       "      <td>0</td>\n",
       "      <td>0</td>\n",
       "      <td>0</td>\n",
       "      <td>0</td>\n",
       "      <td>0</td>\n",
       "      <td>0</td>\n",
       "      <td>0</td>\n",
       "      <td>0</td>\n",
       "      <td>0</td>\n",
       "      <td>0</td>\n",
       "    </tr>\n",
       "    <tr>\n",
       "      <th>2</th>\n",
       "      <td>0</td>\n",
       "      <td>0</td>\n",
       "      <td>0</td>\n",
       "      <td>0</td>\n",
       "      <td>0</td>\n",
       "      <td>0</td>\n",
       "      <td>0</td>\n",
       "      <td>0</td>\n",
       "      <td>0</td>\n",
       "      <td>0</td>\n",
       "      <td>...</td>\n",
       "      <td>0</td>\n",
       "      <td>0</td>\n",
       "      <td>0</td>\n",
       "      <td>0</td>\n",
       "      <td>0</td>\n",
       "      <td>0</td>\n",
       "      <td>0</td>\n",
       "      <td>0</td>\n",
       "      <td>0</td>\n",
       "      <td>0</td>\n",
       "    </tr>\n",
       "    <tr>\n",
       "      <th>3</th>\n",
       "      <td>0</td>\n",
       "      <td>0</td>\n",
       "      <td>0</td>\n",
       "      <td>0</td>\n",
       "      <td>0</td>\n",
       "      <td>0</td>\n",
       "      <td>0</td>\n",
       "      <td>0</td>\n",
       "      <td>0</td>\n",
       "      <td>0</td>\n",
       "      <td>...</td>\n",
       "      <td>0</td>\n",
       "      <td>0</td>\n",
       "      <td>0</td>\n",
       "      <td>0</td>\n",
       "      <td>0</td>\n",
       "      <td>0</td>\n",
       "      <td>0</td>\n",
       "      <td>0</td>\n",
       "      <td>0</td>\n",
       "      <td>0</td>\n",
       "    </tr>\n",
       "    <tr>\n",
       "      <th>4</th>\n",
       "      <td>0</td>\n",
       "      <td>0</td>\n",
       "      <td>0</td>\n",
       "      <td>0</td>\n",
       "      <td>0</td>\n",
       "      <td>0</td>\n",
       "      <td>0</td>\n",
       "      <td>0</td>\n",
       "      <td>0</td>\n",
       "      <td>0</td>\n",
       "      <td>...</td>\n",
       "      <td>0</td>\n",
       "      <td>0</td>\n",
       "      <td>0</td>\n",
       "      <td>0</td>\n",
       "      <td>0</td>\n",
       "      <td>0</td>\n",
       "      <td>0</td>\n",
       "      <td>0</td>\n",
       "      <td>0</td>\n",
       "      <td>0</td>\n",
       "    </tr>\n",
       "  </tbody>\n",
       "</table>\n",
       "<p>5 rows × 784 columns</p>\n",
       "</div>"
      ],
      "text/plain": [
       "   pixel0  pixel1  pixel2  pixel3  pixel4  pixel5  pixel6  pixel7  pixel8  \\\n",
       "0       0       0       0       0       0       0       0       0       0   \n",
       "1       0       0       0       0       0       0       0       0       0   \n",
       "2       0       0       0       0       0       0       0       0       0   \n",
       "3       0       0       0       0       0       0       0       0       0   \n",
       "4       0       0       0       0       0       0       0       0       0   \n",
       "\n",
       "   pixel9  ...  pixel774  pixel775  pixel776  pixel777  pixel778  pixel779  \\\n",
       "0       0  ...         0         0         0         0         0         0   \n",
       "1       0  ...         0         0         0         0         0         0   \n",
       "2       0  ...         0         0         0         0         0         0   \n",
       "3       0  ...         0         0         0         0         0         0   \n",
       "4       0  ...         0         0         0         0         0         0   \n",
       "\n",
       "   pixel780  pixel781  pixel782  pixel783  \n",
       "0         0         0         0         0  \n",
       "1         0         0         0         0  \n",
       "2         0         0         0         0  \n",
       "3         0         0         0         0  \n",
       "4         0         0         0         0  \n",
       "\n",
       "[5 rows x 784 columns]"
      ]
     },
     "execution_count": 136,
     "metadata": {},
     "output_type": "execute_result"
    }
   ],
   "source": [
    "df_test = pd.read_csv('test.csv')\n",
    "df_test.head()"
   ]
  },
  {
   "cell_type": "code",
   "execution_count": 138,
   "id": "acc4cea2",
   "metadata": {},
   "outputs": [
    {
     "name": "stderr",
     "output_type": "stream",
     "text": [
      "C:\\Users\\Lenovo\\anaconda3\\lib\\site-packages\\sklearn\\base.py:450: UserWarning: X does not have valid feature names, but LogisticRegression was fitted with feature names\n",
      "  warnings.warn(\n",
      "C:\\Users\\Lenovo\\anaconda3\\lib\\site-packages\\sklearn\\base.py:450: UserWarning: X does not have valid feature names, but GaussianNB was fitted with feature names\n",
      "  warnings.warn(\n",
      "C:\\Users\\Lenovo\\anaconda3\\lib\\site-packages\\sklearn\\base.py:450: UserWarning: X does not have valid feature names, but RandomForestClassifier was fitted with feature names\n",
      "  warnings.warn(\n",
      "C:\\Users\\Lenovo\\anaconda3\\lib\\site-packages\\sklearn\\base.py:450: UserWarning: X does not have valid feature names, but SVC was fitted with feature names\n",
      "  warnings.warn(\n",
      "C:\\Users\\Lenovo\\anaconda3\\lib\\site-packages\\sklearn\\base.py:450: UserWarning: X does not have valid feature names, but KNeighborsClassifier was fitted with feature names\n",
      "  warnings.warn(\n"
     ]
    },
    {
     "name": "stdout",
     "output_type": "stream",
     "text": [
      "Prediction of Logistic Regression : [3].\n",
      "Predication of Naive Bayes Model: [4].\n",
      "Prediction of Random Forest: [8].\n",
      "Predication of SVM : [7].\n",
      "Prediction of KNN: [3].\n"
     ]
    },
    {
     "data": {
      "image/png": "[encoded data removed]",
      "text/plain": [
       "<Figure size 432x288 with 1 Axes>"
      ]
     },
     "metadata": {
      "needs_background": "light"
     },
     "output_type": "display_data"
    }
   ],
   "source": [
    "i = 7 #different iteration value will give different digit\n",
    "plt.imshow(df_test.iloc[i, :].values.reshape(28,28), cmap = 'spring')\n",
    "print(f'Prediction of Logistic Regression : {LR.predict(df_test.iloc[i,:].values.reshape(1,-1))}.')\n",
    "print(f'Predication of Naive Bayes Model: {gnb.predict(df_test.iloc[i,:].values.reshape(1,-1))}.')\n",
    "print(f'Prediction of Random Forest: {rf.predict(df_test.iloc[i,:].values.reshape(1,-1))}.')\n",
    "print(f'Predication of SVM : {clf.predict(df_test.iloc[i,:].values.reshape(1,-1))}.')\n",
    "print(f'Prediction of KNN: {KC.predict(df_test.iloc[i,:].values.reshape(1,-1))}.')"
   ]
  },
  {
   "cell_type": "code",
   "execution_count": null,
   "id": "4404f637",
   "metadata": {},
   "outputs": [],
   "source": []
  }
 ],
 "metadata": {
  "kernelspec": {
   "display_name": "Python 3 (ipykernel)",
   "language": "python",
   "name": "python3"
  },
  "language_info": {
   "codemirror_mode": {
    "name": "ipython",
    "version": 3
   },
   "file_extension": ".py",
   "mimetype": "text/x-python",
   "name": "python",
   "nbconvert_exporter": "python",
   "pygments_lexer": "ipython3",
   "version": "3.9.12"
  }
 },
 "nbformat": 4,
 "nbformat_minor": 5
}
